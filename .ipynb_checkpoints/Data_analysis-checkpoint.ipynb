{
 "cells": [
  {
   "cell_type": "code",
   "execution_count": 2,
   "id": "5eb8cfdb",
   "metadata": {},
   "outputs": [
    {
     "ename": "ModuleNotFoundError",
     "evalue": "No module named 'pandas_profiling'",
     "output_type": "error",
     "traceback": [
      "\u001b[1;31m---------------------------------------------------------------------------\u001b[0m",
      "\u001b[1;31mModuleNotFoundError\u001b[0m                       Traceback (most recent call last)",
      "Cell \u001b[1;32mIn[2], line 4\u001b[0m\n\u001b[0;32m      2\u001b[0m \u001b[38;5;28;01mimport\u001b[39;00m \u001b[38;5;21;01mmatplotlib\u001b[39;00m\u001b[38;5;21;01m.\u001b[39;00m\u001b[38;5;21;01mpyplot\u001b[39;00m \u001b[38;5;28;01mas\u001b[39;00m \u001b[38;5;21;01mplt\u001b[39;00m\n\u001b[0;32m      3\u001b[0m \u001b[38;5;28;01mfrom\u001b[39;00m \u001b[38;5;21;01mscipy\u001b[39;00m\u001b[38;5;21;01m.\u001b[39;00m\u001b[38;5;21;01mstats\u001b[39;00m \u001b[38;5;28;01mimport\u001b[39;00m chi2_contingency\n\u001b[1;32m----> 4\u001b[0m \u001b[38;5;28;01mimport\u001b[39;00m \u001b[38;5;21;01mpandas_profiling\u001b[39;00m\n\u001b[0;32m      5\u001b[0m \u001b[38;5;28;01mimport\u001b[39;00m \u001b[38;5;21;01mnumpy\u001b[39;00m \u001b[38;5;28;01mas\u001b[39;00m \u001b[38;5;21;01mnp\u001b[39;00m\n\u001b[0;32m      6\u001b[0m \u001b[38;5;28;01mimport\u001b[39;00m \u001b[38;5;21;01mseaborn\u001b[39;00m \u001b[38;5;28;01mas\u001b[39;00m \u001b[38;5;21;01msns\u001b[39;00m\n",
      "\u001b[1;31mModuleNotFoundError\u001b[0m: No module named 'pandas_profiling'"
     ]
    }
   ],
   "source": [
    "import pandas as pd\n",
    "import matplotlib.pyplot as plt\n",
    "from scipy.stats import chi2_contingency\n",
    "import pandas_profiling\n",
    "import numpy as np\n",
    "import seaborn as sns"
   ]
  },
  {
   "cell_type": "code",
   "execution_count": null,
   "id": "e7df12d6",
   "metadata": {},
   "outputs": [],
   "source": [
    "df = pd.read_csv(\"DataSet/emobank.csv\")\n",
    "print(df.head())"
   ]
  },
  {
   "cell_type": "code",
   "execution_count": null,
   "id": "e322e245",
   "metadata": {},
   "outputs": [],
   "source": [
    "V, A, D = df[\"V\"],df[\"A\"],df[\"D\"]"
   ]
  },
  {
   "cell_type": "markdown",
   "id": "a9013a72",
   "metadata": {},
   "source": [
    "# Scatter plot"
   ]
  },
  {
   "cell_type": "code",
   "execution_count": null,
   "id": "eda0b0ec",
   "metadata": {},
   "outputs": [],
   "source": [
    "plt.scatter(V, A, c=D, cmap=\"viridis\")\n",
    "plt.colorbar()\n",
    "plt.show()"
   ]
  },
  {
   "cell_type": "code",
   "execution_count": null,
   "id": "25773eb9",
   "metadata": {},
   "outputs": [],
   "source": [
    "plt.scatter(V, D, c=A, cmap=\"viridis\")\n",
    "plt.colorbar()\n",
    "plt.show()"
   ]
  },
  {
   "cell_type": "code",
   "execution_count": null,
   "id": "e1dbdb7c",
   "metadata": {},
   "outputs": [],
   "source": [
    "V_mean = np.mean(V)\n",
    "V_dev2 = (V - V_mean)**2\n",
    "\n",
    "plt.scatter(V_dev2, D, c=A, cmap=\"viridis\")\n",
    "plt.colorbar()\n",
    "plt.show()"
   ]
  },
  {
   "cell_type": "markdown",
   "id": "fc3ad19b",
   "metadata": {},
   "source": [
    "# Pair plot"
   ]
  },
  {
   "cell_type": "code",
   "execution_count": null,
   "id": "0b68f0d0",
   "metadata": {},
   "outputs": [],
   "source": [
    "sns.pairplot(df[['V', 'A', 'D']])"
   ]
  },
  {
   "cell_type": "markdown",
   "id": "4ff80fac",
   "metadata": {},
   "source": [
    "# Pearson Correlation Coefficient"
   ]
  },
  {
   "cell_type": "code",
   "execution_count": null,
   "id": "e61d8c45",
   "metadata": {},
   "outputs": [],
   "source": [
    "correlation_matrix = df[['V','D','A']].corr()\n",
    "print(\"Pearson Correlation Coefficient\")\n",
    "print(correlation_matrix)"
   ]
  },
  {
   "cell_type": "markdown",
   "id": "9b905440",
   "metadata": {},
   "source": [
    "# Chi square test"
   ]
  },
  {
   "cell_type": "code",
   "execution_count": null,
   "id": "3f5d0632",
   "metadata": {},
   "outputs": [],
   "source": [
    "contingency_table = [V, A, D]\n",
    "chi2_statistic, p_value, dof, expected = chi2_contingency(contingency_table)\n",
    "print(\"Chi-square statistic:\", chi2_statistic)\n",
    "print(\"p-value:\", p_value)"
   ]
  },
  {
   "cell_type": "markdown",
   "id": "a6b878fa",
   "metadata": {},
   "source": [
    "# Cramér's V"
   ]
  },
  {
   "cell_type": "code",
   "execution_count": null,
   "id": "52cbb8e2",
   "metadata": {},
   "outputs": [],
   "source": [
    "cross_table = np.array(contingency_table)\n",
    "n = np.sum(expected) \n",
    "v = np.sqrt(chi2_statistic / (n * (min(cross_table.shape) - 1)))\n",
    "print(\"Cramér's V:\", v)"
   ]
  },
  {
   "cell_type": "markdown",
   "id": "9f1e3ea9",
   "metadata": {},
   "source": [
    "# Pandas Report"
   ]
  },
  {
   "cell_type": "code",
   "execution_count": null,
   "id": "553f7222",
   "metadata": {},
   "outputs": [],
   "source": [
    "pr = df.profile_report()\n",
    "pr.to_file(\"DataSet/EmoBank_Profile.html\")"
   ]
  },
  {
   "cell_type": "code",
   "execution_count": null,
   "id": "e9218830",
   "metadata": {},
   "outputs": [],
   "source": [
    "pr"
   ]
  },
  {
   "cell_type": "code",
   "execution_count": null,
   "id": "1c2c7ffd",
   "metadata": {},
   "outputs": [],
   "source": []
  }
 ],
 "metadata": {
  "kernelspec": {
   "display_name": "Python 3 (ipykernel)",
   "language": "python",
   "name": "python3"
  },
  "language_info": {
   "codemirror_mode": {
    "name": "ipython",
    "version": 3
   },
   "file_extension": ".py",
   "mimetype": "text/x-python",
   "name": "python",
   "nbconvert_exporter": "python",
   "pygments_lexer": "ipython3",
   "version": "3.9.1"
  }
 },
 "nbformat": 4,
 "nbformat_minor": 5
}
